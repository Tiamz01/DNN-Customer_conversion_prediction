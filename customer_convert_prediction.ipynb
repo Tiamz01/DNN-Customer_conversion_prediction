{
 "cells": [
  {
   "cell_type": "markdown",
   "id": "4b52d752",
   "metadata": {},
   "source": [
    "### Preprocessing the data\n",
    "\n",
    "Here i balance the data to enable a equal distribution of the dataset for good ML predicton. Create 3 dataset, the training, test, validation. then save the dataset as npz format"
   ]
  },
  {
   "cell_type": "code",
   "execution_count": 1,
   "id": "ce28c309",
   "metadata": {},
   "outputs": [],
   "source": [
    "import numpy as np\n",
    "from  sklearn import preprocessing"
   ]
  },
  {
   "cell_type": "markdown",
   "id": "77cc9f10",
   "metadata": {},
   "source": [
    "### Extract the data"
   ]
  },
  {
   "cell_type": "code",
   "execution_count": 2,
   "id": "ebfdd13f",
   "metadata": {},
   "outputs": [],
   "source": [
    "raw_csv_data = np.loadtxt('Audiobooks_data.csv.csv', delimiter=',')\n",
    "                          \n",
    "unscaled_features = raw_csv_data[:, 1:-1]\n",
    "targets_all = raw_csv_data[:,-1]"
   ]
  },
  {
   "cell_type": "markdown",
   "id": "022e17f5",
   "metadata": {},
   "source": [
    "### Balance the dataset\n",
    "\n",
    "1. i will counts the number of targets that are 1s\n",
    "2. keep as many 0s as 1s(delete the others)\n",
    "\n"
   ]
  },
  {
   "cell_type": "code",
   "execution_count": 3,
   "id": "316e0b1c",
   "metadata": {},
   "outputs": [],
   "source": [
    "num_one_targets = int(np.sum(targets_all)) \n",
    "zero_targets_counter = 0\n",
    "indices_to_remove = []\n",
    "\"\"\"\n",
    "in the loop, we want to increase the zeroes counter by 1, if the target is 0.\n",
    "if the target at the position i is 0, and the number of 0s is bigger then the number of 1s, i will know the indices of all data points to be removed.\n",
    "\"\"\"\n",
    "for i in range(targets_all.shape[0]):\n",
    "   \n",
    "    if targets_all[i] == 0:\n",
    "        zero_targets_counter += 1\n",
    "        if zero_targets_counter > num_one_targets:\n",
    "            indices_to_remove.append(i)\n",
    "\n",
    "prior_unscaled_features_equal = np.delete(unscaled_features, indices_to_remove, axis=0)\n",
    "prior_targets_equal = np.delete(targets_all, indices_to_remove, axis=0)"
   ]
  },
  {
   "cell_type": "markdown",
   "id": "43748685",
   "metadata": {},
   "source": [
    "### Standardize the inputs\n"
   ]
  },
  {
   "cell_type": "code",
   "execution_count": 4,
   "id": "0a0f7ffe",
   "metadata": {},
   "outputs": [],
   "source": [
    "scaled_features = preprocessing.scale(prior_unscaled_features_equal)"
   ]
  },
  {
   "cell_type": "markdown",
   "id": "d16fa157",
   "metadata": {},
   "source": [
    "###  Shuffle the data\n",
    "since i will be batching, the model will confuse if there homogeneity in the dataset. It be be great to  shuffle to enable randomness for proper effecitveness of SDG."
   ]
  },
  {
   "cell_type": "code",
   "execution_count": 5,
   "id": "8d8b848c",
   "metadata": {},
   "outputs": [],
   "source": [
    "shuffled_indices= np.arange(scaled_features.shape[0])\n",
    "np.random.shuffle(shuffled_indices)\n",
    "\n",
    "shuffled_features = scaled_features[shuffled_indices]\n",
    "shuffled_targets = prior_targets_equal[shuffled_indices]"
   ]
  },
  {
   "cell_type": "markdown",
   "id": "1fd434ff",
   "metadata": {},
   "source": [
    "### Split the dataset into train, validation and test"
   ]
  },
  {
   "cell_type": "code",
   "execution_count": 6,
   "id": "4080a74c",
   "metadata": {},
   "outputs": [
    {
     "name": "stdout",
     "output_type": "stream",
     "text": [
      "1767.0 3579 0.49371332774518023\n",
      "237.0 447 0.5302013422818792\n",
      "233.0 1342 0.1736214605067064\n"
     ]
    }
   ],
   "source": [
    "sample_counts = shuffled_features.shape[0]\n",
    "\n",
    "train_samples_count = int(0.8*sample_counts)\n",
    "validation_samples_count = int(0.1*sample_counts)\n",
    "test_samples_count = sample_counts - train_samples_count + validation_samples_count\n",
    "\n",
    "train_features = shuffled_features[:train_samples_count]\n",
    "train_targets = shuffled_targets[:train_samples_count]\n",
    "\n",
    "validation_features = shuffled_features[train_samples_count:train_samples_count+validation_samples_count] \n",
    "validation_targets = shuffled_targets[train_samples_count:train_samples_count+validation_samples_count] \n",
    "\n",
    "test_features = shuffled_features[train_samples_count+validation_samples_count:] \n",
    "test_targets = shuffled_targets[train_samples_count+validation_samples_count:]\n",
    "\n",
    "\n",
    "print(np.sum(train_targets), train_samples_count, np.sum(train_targets)/train_samples_count)\n",
    "print(np.sum(validation_targets), validation_samples_count, np.sum(validation_targets)/validation_samples_count)\n",
    "print(np.sum(test_targets), test_samples_count, np.sum(test_targets)/test_samples_count)\n"
   ]
  },
  {
   "cell_type": "markdown",
   "id": "60dfd8be",
   "metadata": {},
   "source": [
    "### save preprocess data to .npz format"
   ]
  },
  {
   "cell_type": "code",
   "execution_count": 7,
   "id": "e1ba7c29",
   "metadata": {},
   "outputs": [],
   "source": [
    "np.savez('Audio_data_train', inputs=train_features, targets=train_targets)\n",
    "np.savez('Audio_data_validation', inputs=validation_features, targets=validation_targets)\n",
    "np.savez('Audio_data_test', inputs=test_features, targets=test_targets)"
   ]
  },
  {
   "cell_type": "markdown",
   "id": "dda9a730",
   "metadata": {},
   "source": [
    "###  Creating the model\n"
   ]
  },
  {
   "cell_type": "code",
   "execution_count": 8,
   "id": "1b567822",
   "metadata": {},
   "outputs": [],
   "source": [
    "import tensorflow as tf"
   ]
  },
  {
   "cell_type": "code",
   "execution_count": 9,
   "id": "5cf6587f",
   "metadata": {},
   "outputs": [],
   "source": [
    "# train data\n",
    "npz = np.load('Audio_data_train.npz')\n",
    "train_features= npz['inputs'].astype(float)\n",
    "train_targets = npz['targets'].astype(int)\n",
    "\n",
    "# validation data\n",
    "npz = np.load('Audio_data_validation.npz')\n",
    "validation_features= npz['inputs'].astype(float)\n",
    "validation_targets = npz['targets'].astype(int)\n",
    "\n",
    "# test data\n",
    "npz = np.load('Audio_data_test.npz')\n",
    "test_features= npz['inputs'].astype(float)\n",
    "test_targets = npz['targets'].astype(int)"
   ]
  },
  {
   "cell_type": "code",
   "execution_count": 10,
   "id": "61680c5f",
   "metadata": {},
   "outputs": [],
   "source": [
    "input_size = 10\n",
    "output_size = 2\n",
    "hidden_layer = 50\n",
    "\n",
    "model = tf.keras.Sequential([\n",
    "                            tf.keras.layers.Dense(hidden_layer, activation='relu'),#hidden layer,\n",
    "                            tf.keras.layers.Dense(hidden_layer, activation='relu'),#hidden layer,\n",
    "                            tf.keras.layers.Dense(hidden_layer, activation='relu'),#hidden layer,\n",
    "                            tf.keras.layers.Dense(output_size, activation='softmax'),#outlayer layer(returns probability),\n",
    "                     \n",
    "                            ])"
   ]
  },
  {
   "cell_type": "markdown",
   "id": "bd8e51fb",
   "metadata": {},
   "source": [
    "### choosing optimizer and loss function\n"
   ]
  },
  {
   "cell_type": "code",
   "execution_count": 11,
   "id": "c4914160",
   "metadata": {},
   "outputs": [],
   "source": [
    "model.compile(optimizer='adam', loss='sparse_categorical_crossentropy', metrics=['accuracy'])"
   ]
  },
  {
   "cell_type": "code",
   "execution_count": 12,
   "id": "e73e9b37",
   "metadata": {},
   "outputs": [
    {
     "name": "stdout",
     "output_type": "stream",
     "text": [
      "Epoch 1/200\n",
      "18/18 - 2s - loss: 0.5673 - accuracy: 0.7737 - val_loss: 0.4651 - val_accuracy: 0.8591 - 2s/epoch - 85ms/step\n",
      "Epoch 2/200\n",
      "18/18 - 0s - loss: 0.3896 - accuracy: 0.8782 - val_loss: 0.3455 - val_accuracy: 0.8680 - 87ms/epoch - 5ms/step\n",
      "Epoch 3/200\n",
      "18/18 - 0s - loss: 0.3202 - accuracy: 0.8854 - val_loss: 0.3152 - val_accuracy: 0.8770 - 78ms/epoch - 4ms/step\n",
      "Epoch 4/200\n",
      "18/18 - 0s - loss: 0.2937 - accuracy: 0.8910 - val_loss: 0.3010 - val_accuracy: 0.8770 - 81ms/epoch - 4ms/step\n",
      "Epoch 5/200\n",
      "18/18 - 0s - loss: 0.2780 - accuracy: 0.8994 - val_loss: 0.3022 - val_accuracy: 0.8859 - 84ms/epoch - 5ms/step\n",
      "Epoch 6/200\n",
      "18/18 - 0s - loss: 0.2705 - accuracy: 0.8977 - val_loss: 0.2850 - val_accuracy: 0.8904 - 79ms/epoch - 4ms/step\n",
      "Epoch 7/200\n",
      "18/18 - 0s - loss: 0.2610 - accuracy: 0.9014 - val_loss: 0.2785 - val_accuracy: 0.8881 - 78ms/epoch - 4ms/step\n",
      "Epoch 8/200\n",
      "18/18 - 0s - loss: 0.2559 - accuracy: 0.9036 - val_loss: 0.2821 - val_accuracy: 0.8949 - 94ms/epoch - 5ms/step\n",
      "Epoch 9/200\n",
      "18/18 - 0s - loss: 0.2535 - accuracy: 0.9067 - val_loss: 0.2786 - val_accuracy: 0.8971 - 94ms/epoch - 5ms/step\n"
     ]
    },
    {
     "data": {
      "text/plain": [
       "<keras.callbacks.History at 0x273f2b244c0>"
      ]
     },
     "execution_count": 12,
     "metadata": {},
     "output_type": "execute_result"
    }
   ],
   "source": [
    "BATCH_SIZE = 200\n",
    "MAX_EPOCH = 200\n",
    "EARLY_STOPPING = tf.keras.callbacks.EarlyStopping(patience=2)\n",
    "model.fit(train_features, \n",
    "          train_targets,\n",
    "          callbacks=[EARLY_STOPPING],\n",
    "          batch_size=BATCH_SIZE, \n",
    "          epochs=MAX_EPOCH, \n",
    "          validation_data=(validation_features, validation_targets),\n",
    "          verbose=2)"
   ]
  },
  {
   "cell_type": "markdown",
   "id": "a443480a",
   "metadata": {},
   "source": [
    "### Test the model"
   ]
  },
  {
   "cell_type": "code",
   "execution_count": 13,
   "id": "10764e09",
   "metadata": {},
   "outputs": [
    {
     "name": "stdout",
     "output_type": "stream",
     "text": [
      "14/14 [==============================] - 0s 4ms/step - loss: 0.3206 - accuracy: 0.8817\n"
     ]
    }
   ],
   "source": [
    "test_loss, test_accuracy = model.evaluate(test_features, test_targets)"
   ]
  },
  {
   "cell_type": "code",
   "execution_count": 14,
   "id": "6083a73b",
   "metadata": {},
   "outputs": [
    {
     "name": "stdout",
     "output_type": "stream",
     "text": [
      "Test loss: 0.32, Test accuray:88.17%\n"
     ]
    }
   ],
   "source": [
    "print('Test loss: {:.2f}, Test accuray:{:.2f}%'.format(test_loss, test_accuracy*100.0))"
   ]
  },
  {
   "cell_type": "code",
   "execution_count": null,
   "id": "07449461",
   "metadata": {},
   "outputs": [],
   "source": []
  }
 ],
 "metadata": {
  "kernelspec": {
   "display_name": "Py3.10-TF",
   "language": "python",
   "name": "py310-tf"
  },
  "language_info": {
   "codemirror_mode": {
    "name": "ipython",
    "version": 3
   },
   "file_extension": ".py",
   "mimetype": "text/x-python",
   "name": "python",
   "nbconvert_exporter": "python",
   "pygments_lexer": "ipython3",
   "version": "3.10.13"
  }
 },
 "nbformat": 4,
 "nbformat_minor": 5
}
